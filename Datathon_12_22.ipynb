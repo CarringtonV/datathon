{
  "nbformat": 4,
  "nbformat_minor": 0,
  "metadata": {
    "colab": {
      "provenance": []
    },
    "kernelspec": {
      "name": "python3",
      "display_name": "Python 3"
    },
    "language_info": {
      "name": "python"
    }
  },
  "cells": [
    {
      "cell_type": "code",
      "execution_count": 1,
      "metadata": {
        "id": "MIgpHxzUnUAH"
      },
      "outputs": [],
      "source": [
        "!cp \"/content/drive/MyDrive/Colab Notebooks/faceimages.zip\" ."
      ]
    },
    {
      "cell_type": "code",
      "source": [
        "!unzip faceimages.zip"
      ],
      "metadata": {
        "id": "QY1Ovsioo5ji"
      },
      "execution_count": null,
      "outputs": []
    },
    {
      "cell_type": "code",
      "source": [
        "!python -m pip install deepface\n"
      ],
      "metadata": {
        "colab": {
          "base_uri": "https://localhost:8080/"
        },
        "id": "9LpDLVWTo_kI",
        "outputId": "826a7f43-44f9-4931-b2ba-957872fcf9b0"
      },
      "execution_count": 20,
      "outputs": [
        {
          "output_type": "stream",
          "name": "stdout",
          "text": [
            "Requirement already satisfied: deepface in /usr/local/lib/python3.10/dist-packages (0.0.80)\n",
            "Requirement already satisfied: numpy>=1.14.0 in /usr/local/lib/python3.10/dist-packages (from deepface) (1.23.5)\n",
            "Requirement already satisfied: pandas>=0.23.4 in /usr/local/lib/python3.10/dist-packages (from deepface) (1.5.3)\n",
            "Requirement already satisfied: gdown>=3.10.1 in /usr/local/lib/python3.10/dist-packages (from deepface) (4.6.6)\n",
            "Requirement already satisfied: tqdm>=4.30.0 in /usr/local/lib/python3.10/dist-packages (from deepface) (4.66.1)\n",
            "Requirement already satisfied: Pillow>=5.2.0 in /usr/local/lib/python3.10/dist-packages (from deepface) (9.4.0)\n",
            "Requirement already satisfied: opencv-python>=4.5.5.64 in /usr/local/lib/python3.10/dist-packages (from deepface) (4.8.0.76)\n",
            "Requirement already satisfied: tensorflow>=1.9.0 in /usr/local/lib/python3.10/dist-packages (from deepface) (2.15.0)\n",
            "Requirement already satisfied: keras>=2.2.0 in /usr/local/lib/python3.10/dist-packages (from deepface) (2.15.0)\n",
            "Requirement already satisfied: Flask>=1.1.2 in /usr/local/lib/python3.10/dist-packages (from deepface) (2.2.5)\n",
            "Requirement already satisfied: mtcnn>=0.1.0 in /usr/local/lib/python3.10/dist-packages (from deepface) (0.1.1)\n",
            "Requirement already satisfied: retina-face>=0.0.1 in /usr/local/lib/python3.10/dist-packages (from deepface) (0.0.13)\n",
            "Requirement already satisfied: fire>=0.4.0 in /usr/local/lib/python3.10/dist-packages (from deepface) (0.5.0)\n",
            "Requirement already satisfied: gunicorn>=20.1.0 in /usr/local/lib/python3.10/dist-packages (from deepface) (21.2.0)\n",
            "Requirement already satisfied: Deprecated>=1.2.13 in /usr/local/lib/python3.10/dist-packages (from deepface) (1.2.14)\n",
            "Requirement already satisfied: wrapt<2,>=1.10 in /usr/local/lib/python3.10/dist-packages (from Deprecated>=1.2.13->deepface) (1.14.1)\n",
            "Requirement already satisfied: six in /usr/local/lib/python3.10/dist-packages (from fire>=0.4.0->deepface) (1.16.0)\n",
            "Requirement already satisfied: termcolor in /usr/local/lib/python3.10/dist-packages (from fire>=0.4.0->deepface) (2.4.0)\n",
            "Requirement already satisfied: Werkzeug>=2.2.2 in /usr/local/lib/python3.10/dist-packages (from Flask>=1.1.2->deepface) (3.0.1)\n",
            "Requirement already satisfied: Jinja2>=3.0 in /usr/local/lib/python3.10/dist-packages (from Flask>=1.1.2->deepface) (3.1.2)\n",
            "Requirement already satisfied: itsdangerous>=2.0 in /usr/local/lib/python3.10/dist-packages (from Flask>=1.1.2->deepface) (2.1.2)\n",
            "Requirement already satisfied: click>=8.0 in /usr/local/lib/python3.10/dist-packages (from Flask>=1.1.2->deepface) (8.1.7)\n",
            "Requirement already satisfied: filelock in /usr/local/lib/python3.10/dist-packages (from gdown>=3.10.1->deepface) (3.13.1)\n",
            "Requirement already satisfied: requests[socks] in /usr/local/lib/python3.10/dist-packages (from gdown>=3.10.1->deepface) (2.31.0)\n",
            "Requirement already satisfied: beautifulsoup4 in /usr/local/lib/python3.10/dist-packages (from gdown>=3.10.1->deepface) (4.11.2)\n",
            "Requirement already satisfied: packaging in /usr/local/lib/python3.10/dist-packages (from gunicorn>=20.1.0->deepface) (23.2)\n",
            "Requirement already satisfied: python-dateutil>=2.8.1 in /usr/local/lib/python3.10/dist-packages (from pandas>=0.23.4->deepface) (2.8.2)\n",
            "Requirement already satisfied: pytz>=2020.1 in /usr/local/lib/python3.10/dist-packages (from pandas>=0.23.4->deepface) (2023.3.post1)\n",
            "Requirement already satisfied: absl-py>=1.0.0 in /usr/local/lib/python3.10/dist-packages (from tensorflow>=1.9.0->deepface) (1.4.0)\n",
            "Requirement already satisfied: astunparse>=1.6.0 in /usr/local/lib/python3.10/dist-packages (from tensorflow>=1.9.0->deepface) (1.6.3)\n",
            "Requirement already satisfied: flatbuffers>=23.5.26 in /usr/local/lib/python3.10/dist-packages (from tensorflow>=1.9.0->deepface) (23.5.26)\n",
            "Requirement already satisfied: gast!=0.5.0,!=0.5.1,!=0.5.2,>=0.2.1 in /usr/local/lib/python3.10/dist-packages (from tensorflow>=1.9.0->deepface) (0.5.4)\n",
            "Requirement already satisfied: google-pasta>=0.1.1 in /usr/local/lib/python3.10/dist-packages (from tensorflow>=1.9.0->deepface) (0.2.0)\n",
            "Requirement already satisfied: h5py>=2.9.0 in /usr/local/lib/python3.10/dist-packages (from tensorflow>=1.9.0->deepface) (3.9.0)\n",
            "Requirement already satisfied: libclang>=13.0.0 in /usr/local/lib/python3.10/dist-packages (from tensorflow>=1.9.0->deepface) (16.0.6)\n",
            "Requirement already satisfied: ml-dtypes~=0.2.0 in /usr/local/lib/python3.10/dist-packages (from tensorflow>=1.9.0->deepface) (0.2.0)\n",
            "Requirement already satisfied: opt-einsum>=2.3.2 in /usr/local/lib/python3.10/dist-packages (from tensorflow>=1.9.0->deepface) (3.3.0)\n",
            "Requirement already satisfied: protobuf!=4.21.0,!=4.21.1,!=4.21.2,!=4.21.3,!=4.21.4,!=4.21.5,<5.0.0dev,>=3.20.3 in /usr/local/lib/python3.10/dist-packages (from tensorflow>=1.9.0->deepface) (3.20.3)\n",
            "Requirement already satisfied: setuptools in /usr/local/lib/python3.10/dist-packages (from tensorflow>=1.9.0->deepface) (67.7.2)\n",
            "Requirement already satisfied: typing-extensions>=3.6.6 in /usr/local/lib/python3.10/dist-packages (from tensorflow>=1.9.0->deepface) (4.5.0)\n",
            "Requirement already satisfied: tensorflow-io-gcs-filesystem>=0.23.1 in /usr/local/lib/python3.10/dist-packages (from tensorflow>=1.9.0->deepface) (0.34.0)\n",
            "Requirement already satisfied: grpcio<2.0,>=1.24.3 in /usr/local/lib/python3.10/dist-packages (from tensorflow>=1.9.0->deepface) (1.60.0)\n",
            "Requirement already satisfied: tensorboard<2.16,>=2.15 in /usr/local/lib/python3.10/dist-packages (from tensorflow>=1.9.0->deepface) (2.15.1)\n",
            "Requirement already satisfied: tensorflow-estimator<2.16,>=2.15.0 in /usr/local/lib/python3.10/dist-packages (from tensorflow>=1.9.0->deepface) (2.15.0)\n",
            "Requirement already satisfied: wheel<1.0,>=0.23.0 in /usr/local/lib/python3.10/dist-packages (from astunparse>=1.6.0->tensorflow>=1.9.0->deepface) (0.42.0)\n",
            "Requirement already satisfied: MarkupSafe>=2.0 in /usr/local/lib/python3.10/dist-packages (from Jinja2>=3.0->Flask>=1.1.2->deepface) (2.1.3)\n",
            "Requirement already satisfied: google-auth<3,>=1.6.3 in /usr/local/lib/python3.10/dist-packages (from tensorboard<2.16,>=2.15->tensorflow>=1.9.0->deepface) (2.17.3)\n",
            "Requirement already satisfied: google-auth-oauthlib<2,>=0.5 in /usr/local/lib/python3.10/dist-packages (from tensorboard<2.16,>=2.15->tensorflow>=1.9.0->deepface) (1.2.0)\n",
            "Requirement already satisfied: markdown>=2.6.8 in /usr/local/lib/python3.10/dist-packages (from tensorboard<2.16,>=2.15->tensorflow>=1.9.0->deepface) (3.5.1)\n",
            "Requirement already satisfied: tensorboard-data-server<0.8.0,>=0.7.0 in /usr/local/lib/python3.10/dist-packages (from tensorboard<2.16,>=2.15->tensorflow>=1.9.0->deepface) (0.7.2)\n",
            "Requirement already satisfied: soupsieve>1.2 in /usr/local/lib/python3.10/dist-packages (from beautifulsoup4->gdown>=3.10.1->deepface) (2.5)\n",
            "Requirement already satisfied: charset-normalizer<4,>=2 in /usr/local/lib/python3.10/dist-packages (from requests[socks]->gdown>=3.10.1->deepface) (3.3.2)\n",
            "Requirement already satisfied: idna<4,>=2.5 in /usr/local/lib/python3.10/dist-packages (from requests[socks]->gdown>=3.10.1->deepface) (3.6)\n",
            "Requirement already satisfied: urllib3<3,>=1.21.1 in /usr/local/lib/python3.10/dist-packages (from requests[socks]->gdown>=3.10.1->deepface) (2.0.7)\n",
            "Requirement already satisfied: certifi>=2017.4.17 in /usr/local/lib/python3.10/dist-packages (from requests[socks]->gdown>=3.10.1->deepface) (2023.11.17)\n",
            "Requirement already satisfied: PySocks!=1.5.7,>=1.5.6 in /usr/local/lib/python3.10/dist-packages (from requests[socks]->gdown>=3.10.1->deepface) (1.7.1)\n",
            "Requirement already satisfied: cachetools<6.0,>=2.0.0 in /usr/local/lib/python3.10/dist-packages (from google-auth<3,>=1.6.3->tensorboard<2.16,>=2.15->tensorflow>=1.9.0->deepface) (5.3.2)\n",
            "Requirement already satisfied: pyasn1-modules>=0.2.1 in /usr/local/lib/python3.10/dist-packages (from google-auth<3,>=1.6.3->tensorboard<2.16,>=2.15->tensorflow>=1.9.0->deepface) (0.3.0)\n",
            "Requirement already satisfied: rsa<5,>=3.1.4 in /usr/local/lib/python3.10/dist-packages (from google-auth<3,>=1.6.3->tensorboard<2.16,>=2.15->tensorflow>=1.9.0->deepface) (4.9)\n",
            "Requirement already satisfied: requests-oauthlib>=0.7.0 in /usr/local/lib/python3.10/dist-packages (from google-auth-oauthlib<2,>=0.5->tensorboard<2.16,>=2.15->tensorflow>=1.9.0->deepface) (1.3.1)\n",
            "Requirement already satisfied: pyasn1<0.6.0,>=0.4.6 in /usr/local/lib/python3.10/dist-packages (from pyasn1-modules>=0.2.1->google-auth<3,>=1.6.3->tensorboard<2.16,>=2.15->tensorflow>=1.9.0->deepface) (0.5.1)\n",
            "Requirement already satisfied: oauthlib>=3.0.0 in /usr/local/lib/python3.10/dist-packages (from requests-oauthlib>=0.7.0->google-auth-oauthlib<2,>=0.5->tensorboard<2.16,>=2.15->tensorflow>=1.9.0->deepface) (3.2.2)\n"
          ]
        }
      ]
    },
    {
      "cell_type": "code",
      "source": [
        "from deepface import DeepFace\n",
        "import os"
      ],
      "metadata": {
        "id": "XWZ6eQ6qqQhe"
      },
      "execution_count": 1,
      "outputs": []
    },
    {
      "cell_type": "code",
      "source": [
        "#facial analysis\n",
        "backends = \"opencv\"\n",
        "demographies = DeepFace.analyze(img_path = \"/content/faceimages/00055.png\",\n",
        "        detector_backend = backends,        actions = ['age', 'gender', 'race']\n",
        ")"
      ],
      "metadata": {
        "colab": {
          "base_uri": "https://localhost:8080/"
        },
        "id": "bf18bkIppYmf",
        "outputId": "037815f4-b338-4789-ef9f-0c4b1e41f4be"
      },
      "execution_count": 6,
      "outputs": [
        {
          "output_type": "stream",
          "name": "stderr",
          "text": [
            "Action: race: 100%|██████████| 3/3 [00:03<00:00,  1.05s/it]\n"
          ]
        }
      ]
    },
    {
      "cell_type": "code",
      "source": [
        "print(len(demographies))"
      ],
      "metadata": {
        "colab": {
          "base_uri": "https://localhost:8080/"
        },
        "id": "RyY4g4P-rN-v",
        "outputId": "bac83c9f-88bf-4dcf-e7e9-c74626038b63"
      },
      "execution_count": 23,
      "outputs": [
        {
          "output_type": "stream",
          "name": "stdout",
          "text": [
            "1\n"
          ]
        }
      ]
    },
    {
      "cell_type": "code",
      "source": [
        "demographies[0]['age']"
      ],
      "metadata": {
        "colab": {
          "base_uri": "https://localhost:8080/"
        },
        "id": "VJPLNbRYr7HQ",
        "outputId": "afed115e-7902-4b13-ad29-1c571fb88d17"
      },
      "execution_count": 11,
      "outputs": [
        {
          "output_type": "execute_result",
          "data": {
            "text/plain": [
              "29"
            ]
          },
          "metadata": {},
          "execution_count": 11
        }
      ]
    },
    {
      "cell_type": "code",
      "source": [
        "max(demographies[0]['gender'],key = demographies[0]['gender'].get)"
      ],
      "metadata": {
        "colab": {
          "base_uri": "https://localhost:8080/",
          "height": 35
        },
        "id": "oA8KCPmXs3rA",
        "outputId": "57c1f4b8-fca3-4830-bbba-07a2125727ae"
      },
      "execution_count": 16,
      "outputs": [
        {
          "output_type": "execute_result",
          "data": {
            "text/plain": [
              "'Woman'"
            ],
            "application/vnd.google.colaboratory.intrinsic+json": {
              "type": "string"
            }
          },
          "metadata": {},
          "execution_count": 16
        }
      ]
    },
    {
      "cell_type": "code",
      "source": [
        "max(demographies[0]['race'],key = demographies[0]['race'].get)"
      ],
      "metadata": {
        "colab": {
          "base_uri": "https://localhost:8080/",
          "height": 35
        },
        "id": "4oIfqhEetfRx",
        "outputId": "3f3d83d6-98b2-47d0-bc28-a99b36b0442a"
      },
      "execution_count": 17,
      "outputs": [
        {
          "output_type": "execute_result",
          "data": {
            "text/plain": [
              "'asian'"
            ],
            "application/vnd.google.colaboratory.intrinsic+json": {
              "type": "string"
            }
          },
          "metadata": {},
          "execution_count": 17
        }
      ]
    },
    {
      "cell_type": "code",
      "source": [
        "def deepfacedp():\n",
        "  backends = \"opencv\"\n",
        "  pics = os.listdir('/content/faceimages')\n",
        "  with open('deepface_datathon.csv',\"w\") as csvfile:\n",
        "    csvfile.write('filename,gender,race,age\\n')\n",
        "\n",
        "    for pic in pics:\n",
        "      try:\n",
        "        demo = DeepFace.analyze(img_path = os.path.join('/content/faceimages',pic),\n",
        "          detector_backend = backends,        actions = ['age', 'gender', 'race'])\n",
        "        age=demo[0]['age']\n",
        "        gender=max(demo[0]['gender'],key = demo[0]['gender'].get)\n",
        "        race=max(demo[0]['race'],key = demo[0]['race'].get)\n",
        "\n",
        "\n",
        "      except:\n",
        "        age=-1\n",
        "        gender='unknown'\n",
        "        race='unknown'\n",
        "\n",
        "\n",
        "      csvfile.write(f'{pic},{gender},{race},{age}\\n')\n",
        "\n"
      ],
      "metadata": {
        "id": "Ko5ZJVsyu2j3"
      },
      "execution_count": 2,
      "outputs": []
    },
    {
      "cell_type": "code",
      "source": [
        "deepfacedp()"
      ],
      "metadata": {
        "colab": {
          "base_uri": "https://localhost:8080/"
        },
        "id": "o8_OW50hwc7D",
        "outputId": "4a5887f9-dac2-4075-9e9e-59518b20c7af"
      },
      "execution_count": 3,
      "outputs": [
        {
          "output_type": "stream",
          "name": "stderr",
          "text": [
            "Action: race: 100%|██████████| 3/3 [00:03<00:00,  1.33s/it]\n",
            "Action: race: 100%|██████████| 3/3 [00:01<00:00,  1.52it/s]\n",
            "Action: race: 100%|██████████| 3/3 [00:02<00:00,  1.49it/s]\n"
          ]
        },
        {
          "output_type": "stream",
          "name": "stdout",
          "text": [
            "00291.png\n"
          ]
        },
        {
          "output_type": "stream",
          "name": "stderr",
          "text": [
            "Action: race: 100%|██████████| 3/3 [00:01<00:00,  1.52it/s]\n",
            "Action: race: 100%|██████████| 3/3 [00:03<00:00,  1.08s/it]\n",
            "Action: race: 100%|██████████| 3/3 [00:02<00:00,  1.30it/s]\n",
            "Action: race: 100%|██████████| 3/3 [00:01<00:00,  1.51it/s]\n",
            "Action: race: 100%|██████████| 3/3 [00:01<00:00,  1.53it/s]\n",
            "Action: race: 100%|██████████| 3/3 [00:01<00:00,  1.53it/s]\n",
            "Action: race: 100%|██████████| 3/3 [00:03<00:00,  1.06s/it]\n",
            "Action: race: 100%|██████████| 3/3 [00:02<00:00,  1.09it/s]\n",
            "Action: race: 100%|██████████| 3/3 [00:01<00:00,  1.54it/s]\n",
            "Action: race: 100%|██████████| 3/3 [00:01<00:00,  1.53it/s]\n",
            "Action: race: 100%|██████████| 3/3 [00:01<00:00,  1.55it/s]\n",
            "Action: race: 100%|██████████| 3/3 [00:03<00:00,  1.07s/it]\n",
            "Action: race: 100%|██████████| 3/3 [00:02<00:00,  1.18it/s]\n",
            "Action: race: 100%|██████████| 3/3 [00:01<00:00,  1.55it/s]\n",
            "Action: race: 100%|██████████| 3/3 [00:01<00:00,  1.52it/s]\n"
          ]
        },
        {
          "output_type": "stream",
          "name": "stdout",
          "text": [
            "00362.png\n"
          ]
        },
        {
          "output_type": "stream",
          "name": "stderr",
          "text": [
            "Action: race: 100%|██████████| 3/3 [00:01<00:00,  1.51it/s]\n",
            "Action: race: 100%|██████████| 3/3 [00:03<00:00,  1.09s/it]\n",
            "Action: race: 100%|██████████| 3/3 [00:02<00:00,  1.40it/s]\n",
            "Action: race: 100%|██████████| 3/3 [00:01<00:00,  1.54it/s]\n",
            "Action: race: 100%|██████████| 3/3 [00:01<00:00,  1.53it/s]\n",
            "Action: race: 100%|██████████| 3/3 [00:01<00:00,  1.54it/s]\n",
            "Action: race: 100%|██████████| 3/3 [00:03<00:00,  1.09s/it]\n",
            "Action: race: 100%|██████████| 3/3 [00:02<00:00,  1.34it/s]\n",
            "Action: race: 100%|██████████| 3/3 [00:01<00:00,  1.52it/s]\n",
            "Action: race: 100%|██████████| 3/3 [00:01<00:00,  1.51it/s]\n",
            "Action: race: 100%|██████████| 3/3 [00:01<00:00,  1.54it/s]\n"
          ]
        },
        {
          "output_type": "stream",
          "name": "stdout",
          "text": [
            "00366.png\n"
          ]
        },
        {
          "output_type": "stream",
          "name": "stderr",
          "text": [
            "Action: race: 100%|██████████| 3/3 [00:03<00:00,  1.10s/it]\n",
            "Action: race: 100%|██████████| 3/3 [00:01<00:00,  1.50it/s]\n",
            "Action: race: 100%|██████████| 3/3 [00:01<00:00,  1.54it/s]\n"
          ]
        },
        {
          "output_type": "stream",
          "name": "stdout",
          "text": [
            "00411.png\n"
          ]
        },
        {
          "output_type": "stream",
          "name": "stderr",
          "text": [
            "Action: race: 100%|██████████| 3/3 [00:01<00:00,  1.55it/s]\n",
            "Action: race: 100%|██████████| 3/3 [00:02<00:00,  1.21it/s]\n",
            "Action: race: 100%|██████████| 3/3 [00:03<00:00,  1.07s/it]\n",
            "Action: race: 100%|██████████| 3/3 [00:01<00:00,  1.53it/s]\n",
            "Action: race: 100%|██████████| 3/3 [00:01<00:00,  1.51it/s]\n",
            "Action: race: 100%|██████████| 3/3 [00:01<00:00,  1.53it/s]\n",
            "Action: race: 100%|██████████| 3/3 [00:02<00:00,  1.16it/s]\n",
            "Action: race: 100%|██████████| 3/3 [00:03<00:00,  1.08s/it]\n",
            "Action: race: 100%|██████████| 3/3 [00:01<00:00,  1.53it/s]\n"
          ]
        },
        {
          "output_type": "stream",
          "name": "stdout",
          "text": [
            "00294.png\n"
          ]
        },
        {
          "output_type": "stream",
          "name": "stderr",
          "text": [
            "Action: race: 100%|██████████| 3/3 [00:01<00:00,  1.52it/s]\n",
            "Action: race: 100%|██████████| 3/3 [00:02<00:00,  1.33it/s]\n",
            "Action: race: 100%|██████████| 3/3 [00:02<00:00,  1.05it/s]\n",
            "Action: race: 100%|██████████| 3/3 [00:02<00:00,  1.01it/s]\n",
            "Action: race: 100%|██████████| 3/3 [00:01<00:00,  1.51it/s]\n",
            "Action: race: 100%|██████████| 3/3 [00:02<00:00,  1.40it/s]\n",
            "Action: race: 100%|██████████| 3/3 [00:03<00:00,  1.11s/it]\n",
            "Action: race: 100%|██████████| 3/3 [00:03<00:00,  1.16s/it]\n",
            "Action: race: 100%|██████████| 3/3 [00:02<00:00,  1.05it/s]\n",
            "Action: race: 100%|██████████| 3/3 [00:01<00:00,  1.54it/s]\n",
            "Action: race: 100%|██████████| 3/3 [00:01<00:00,  1.53it/s]\n",
            "Action: race: 100%|██████████| 3/3 [00:01<00:00,  1.54it/s]\n"
          ]
        },
        {
          "output_type": "stream",
          "name": "stdout",
          "text": [
            "00369.png\n"
          ]
        },
        {
          "output_type": "stream",
          "name": "stderr",
          "text": [
            "Action: race: 100%|██████████| 3/3 [00:03<00:00,  1.07s/it]\n",
            "Action: race: 100%|██████████| 3/3 [00:02<00:00,  1.03it/s]\n",
            "Action: race: 100%|██████████| 3/3 [00:02<00:00,  1.49it/s]\n",
            "Action: race: 100%|██████████| 3/3 [00:01<00:00,  1.51it/s]\n",
            "Action: race: 100%|██████████| 3/3 [00:01<00:00,  1.51it/s]\n",
            "Action: race: 100%|██████████| 3/3 [00:02<00:00,  1.05it/s]\n",
            "Action: race: 100%|██████████| 3/3 [00:03<00:00,  1.01s/it]\n",
            "Action: race: 100%|██████████| 3/3 [00:01<00:00,  1.52it/s]\n",
            "Action: race: 100%|██████████| 3/3 [00:01<00:00,  1.54it/s]\n",
            "Action: race: 100%|██████████| 3/3 [00:01<00:00,  1.52it/s]\n",
            "Action: race: 100%|██████████| 3/3 [00:02<00:00,  1.21it/s]\n",
            "Action: race: 100%|██████████| 3/3 [00:03<00:00,  1.07s/it]\n",
            "Action: race: 100%|██████████| 3/3 [00:01<00:00,  1.53it/s]\n",
            "Action: race: 100%|██████████| 3/3 [00:02<00:00,  1.50it/s]\n",
            "Action: race: 100%|██████████| 3/3 [00:01<00:00,  1.52it/s]\n",
            "Action: race: 100%|██████████| 3/3 [00:02<00:00,  1.48it/s]\n",
            "Action: race: 100%|██████████| 3/3 [00:03<00:00,  1.07s/it]\n",
            "Action: race: 100%|██████████| 3/3 [00:02<00:00,  1.34it/s]\n",
            "Action: race: 100%|██████████| 3/3 [00:01<00:00,  1.51it/s]\n",
            "Action: race: 100%|██████████| 3/3 [00:02<00:00,  1.03it/s]\n",
            "Action: race: 100%|██████████| 3/3 [00:02<00:00,  1.03it/s]\n",
            "Action: race: 100%|██████████| 3/3 [00:03<00:00,  1.01s/it]\n",
            "Action: race: 100%|██████████| 3/3 [00:01<00:00,  1.53it/s]\n",
            "Action: race: 100%|██████████| 3/3 [00:01<00:00,  1.55it/s]\n",
            "Action: race: 100%|██████████| 3/3 [00:01<00:00,  1.53it/s]\n",
            "Action: race: 100%|██████████| 3/3 [00:02<00:00,  1.21it/s]\n",
            "Action: race: 100%|██████████| 3/3 [00:03<00:00,  1.08s/it]\n",
            "Action: race: 100%|██████████| 3/3 [00:02<00:00,  1.39it/s]\n",
            "Action: race: 100%|██████████| 3/3 [00:01<00:00,  1.50it/s]\n",
            "Action: race: 100%|██████████| 3/3 [00:01<00:00,  1.50it/s]\n",
            "Action: race: 100%|██████████| 3/3 [00:01<00:00,  1.51it/s]\n",
            "Action: race: 100%|██████████| 3/3 [00:03<00:00,  1.09s/it]\n",
            "Action: race: 100%|██████████| 3/3 [00:02<00:00,  1.22it/s]\n",
            "Action: race: 100%|██████████| 3/3 [00:01<00:00,  1.53it/s]\n",
            "Action: race: 100%|██████████| 3/3 [00:01<00:00,  1.53it/s]\n"
          ]
        },
        {
          "output_type": "stream",
          "name": "stdout",
          "text": [
            "00450.png\n"
          ]
        },
        {
          "output_type": "stream",
          "name": "stderr",
          "text": [
            "Action: race: 100%|██████████| 3/3 [00:01<00:00,  1.53it/s]\n",
            "Action: race: 100%|██████████| 3/3 [00:03<00:00,  1.08s/it]\n",
            "Action: race: 100%|██████████| 3/3 [00:02<00:00,  1.45it/s]\n",
            "Action: race: 100%|██████████| 3/3 [00:02<00:00,  1.47it/s]\n",
            "Action: race: 100%|██████████| 3/3 [00:02<00:00,  1.46it/s]\n",
            "Action: race: 100%|██████████| 3/3 [00:01<00:00,  1.52it/s]\n",
            "Action: race: 100%|██████████| 3/3 [00:03<00:00,  1.09s/it]\n",
            "Action: race: 100%|██████████| 3/3 [00:02<00:00,  1.38it/s]\n",
            "Action: race: 100%|██████████| 3/3 [00:01<00:00,  1.53it/s]\n",
            "Action: race: 100%|██████████| 3/3 [00:01<00:00,  1.53it/s]\n"
          ]
        },
        {
          "output_type": "stream",
          "name": "stdout",
          "text": [
            "00359.png\n"
          ]
        },
        {
          "output_type": "stream",
          "name": "stderr",
          "text": [
            "Action: race: 100%|██████████| 3/3 [00:02<00:00,  1.28it/s]\n",
            "Action: race: 100%|██████████| 3/3 [00:03<00:00,  1.06s/it]\n",
            "Action: race: 100%|██████████| 3/3 [00:02<00:00,  1.49it/s]\n",
            "Action: race: 100%|██████████| 3/3 [00:01<00:00,  1.53it/s]\n",
            "Action: race: 100%|██████████| 3/3 [00:01<00:00,  1.54it/s]\n",
            "Action: race: 100%|██████████| 3/3 [00:02<00:00,  1.49it/s]\n",
            "Action: race: 100%|██████████| 3/3 [00:03<00:00,  1.10s/it]\n"
          ]
        }
      ]
    },
    {
      "cell_type": "code",
      "source": [],
      "metadata": {
        "id": "ympCyyIbxDL0"
      },
      "execution_count": null,
      "outputs": []
    }
  ]
}